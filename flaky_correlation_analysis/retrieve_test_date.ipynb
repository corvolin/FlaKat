{
 "cells": [
  {
   "cell_type": "code",
   "execution_count": 1,
   "metadata": {},
   "outputs": [],
   "source": [
    "import pandas as pd\n",
    "import numpy as np\n",
    "import git\n",
    "import shutil\n",
    "import time\n",
    "import os\n",
    "import io\n",
    "import pprint\n",
    "import javalang\n",
    "import argparse\n",
    "from tqdm import tqdm\n",
    "from datetime import datetime, timedelta\n",
    "import matplotlib.pyplot as plt"
   ]
  },
  {
   "cell_type": "code",
   "execution_count": 2,
   "metadata": {},
   "outputs": [],
   "source": [
    "repo_path = \"repos/ormlite-core\"\n",
    "repo = git.Repo(\"repos/ormlite-core\")"
   ]
  },
  {
   "cell_type": "code",
   "execution_count": 3,
   "metadata": {},
   "outputs": [],
   "source": [
    "path=\"src/test/java/com/j256/ormlite/db/BaseDatabaseTypeTest.java\"\n",
    "commits_touching_path = list(repo.iter_commits(paths=path))"
   ]
  },
  {
   "cell_type": "code",
   "execution_count": 4,
   "metadata": {},
   "outputs": [
    {
     "data": {
      "text/plain": [
       "True"
      ]
     },
     "execution_count": 4,
     "metadata": {},
     "output_type": "execute_result"
    }
   ],
   "source": [
    "commits_touching_path[0].committed_date < int(time.time())"
   ]
  },
  {
   "cell_type": "code",
   "execution_count": 5,
   "metadata": {},
   "outputs": [],
   "source": [
    "targetfile = commits_touching_path[0].tree / path"
   ]
  },
  {
   "cell_type": "code",
   "execution_count": 6,
   "metadata": {},
   "outputs": [
    {
     "name": "stdout",
     "output_type": "stream",
     "text": [
      "True\n"
     ]
    }
   ],
   "source": [
    "with io.BytesIO(targetfile.data_stream.read()) as f:\n",
    "    content = f.read().decode('utf-8')\n",
    "    if \"testDriverNotFound\" in content:\n",
    "        print(True)\n",
    "    else:\n",
    "        print(False)\n"
   ]
  },
  {
   "cell_type": "code",
   "execution_count": 7,
   "metadata": {},
   "outputs": [],
   "source": [
    "df_all = pd.read_csv('java-maven.csv')\n",
    "df_all['category'] = df_all['category'].fillna('NF')\n",
    "df_clean = df_all[~df_all['category'].str.contains(';', na=False)]\n",
    "df_clean = df_clean[df_clean['category'].isin(['ID','NOD', 'NF','OD','OD-Vic','OD-Brit'])]\n",
    "df_clean['category'] = df_clean['category'].replace('OD-Vic','OD')\n",
    "df_clean['category'] = df_clean['category'].replace('OD-Brit','OD')\n",
    "df_clean['project']=df_clean['id'].str.split(':').str[0]"
   ]
  },
  {
   "cell_type": "code",
   "execution_count": 8,
   "metadata": {},
   "outputs": [
    {
     "name": "stderr",
     "output_type": "stream",
     "text": [
      "C:\\Users\\s222lin\\AppData\\Local\\Temp\\ipykernel_7612\\3067521112.py:10: SettingWithCopyWarning: \n",
      "A value is trying to be set on a copy of a slice from a DataFrame.\n",
      "Try using .loc[row_indexer,col_indexer] = value instead\n",
      "\n",
      "See the caveats in the documentation: https://pandas.pydata.org/pandas-docs/stable/user_guide/indexing.html#returning-a-view-versus-a-copy\n",
      "  df_single['test_case'] = test_cases\n"
     ]
    }
   ],
   "source": [
    "df_single = df_clean[df_clean['project']=='ormlite-core']\n",
    "\n",
    "test_cases = []\n",
    "for full_name in df_single['id']:\n",
    "    test_suite = full_name.split(':')[1].rsplit('.',1)[0]\n",
    "    test_case = full_name.split(':')[1].rsplit('.',1)[1]\n",
    "    \n",
    "    output_name = test_suite + '#' + test_case\n",
    "    test_cases.append(output_name)\n",
    "df_single['test_case'] = test_cases\n",
    "\n",
    "counter = 0\n",
    "for dup in df_single['test_case'].duplicated():\n",
    "    if dup == True:\n",
    "        counter = counter +1\n",
    "\n",
    "df_duplicate = df_single[df_single['test_case'].isin(df_single['test_case'][df_single['test_case'].duplicated()])]\n",
    "df_duplicate_NF = df_duplicate[df_duplicate['category']=='NF']\n",
    "df_single = df_single.drop(df_duplicate_NF.index)"
   ]
  },
  {
   "cell_type": "code",
   "execution_count": 9,
   "metadata": {},
   "outputs": [
    {
     "name": "stdout",
     "output_type": "stream",
     "text": [
      "Fail retrieving commit blob: 0a9f2343e8c6774a70a8b02bd44d3fddbbe16647\n",
      "Fail retrieving commit blob: 97a3e7888be49d63460638b492395454e0e92f9b\n",
      "Fail retrieving commit blob: 97a3e7888be49d63460638b492395454e0e92f9b\n",
      "Fail retrieving commit blob: 97a3e7888be49d63460638b492395454e0e92f9b\n",
      "Fail retrieving commit blob: 97a3e7888be49d63460638b492395454e0e92f9b\n",
      "Fail retrieving commit blob: 97a3e7888be49d63460638b492395454e0e92f9b\n",
      "Fail retrieving commit blob: 97a3e7888be49d63460638b492395454e0e92f9b\n",
      "Fail retrieving commit blob: 97a3e7888be49d63460638b492395454e0e92f9b\n",
      "Fail retrieving commit blob: 97a3e7888be49d63460638b492395454e0e92f9b\n",
      "Fail retrieving commit blob: 97a3e7888be49d63460638b492395454e0e92f9b\n",
      "Fail retrieving commit blob: 97a3e7888be49d63460638b492395454e0e92f9b\n",
      "Fail retrieving commit blob: 97a3e7888be49d63460638b492395454e0e92f9b\n",
      "Fail retrieving commit blob: 97a3e7888be49d63460638b492395454e0e92f9b\n",
      "Fail retrieving commit blob: 97a3e7888be49d63460638b492395454e0e92f9b\n",
      "Fail retrieving commit blob: 97a3e7888be49d63460638b492395454e0e92f9b\n",
      "Fail retrieving commit blob: 97a3e7888be49d63460638b492395454e0e92f9b\n",
      "Fail retrieving commit blob: 97a3e7888be49d63460638b492395454e0e92f9b\n",
      "Fail retrieving commit blob: 97a3e7888be49d63460638b492395454e0e92f9b\n",
      "Fail retrieving commit blob: 36200fdfd2c1e7c4313c4a13ba86571ee30b3b82\n",
      "Fail retrieving commit blob: 97e8bc828939f0166c57e66d7eccf41875154d55\n",
      "Fail retrieving commit blob: 36200fdfd2c1e7c4313c4a13ba86571ee30b3b82\n",
      "Fail retrieving commit blob: 97e8bc828939f0166c57e66d7eccf41875154d55\n",
      "Fail retrieving commit blob: f1ffad978a1d79be640da6c43d74c1490ce23267\n",
      "Fail retrieving commit blob: b28b6b34dc6654bcd5221a6861628526f9d0e9e6\n",
      "Fail retrieving commit blob: b28b6b34dc6654bcd5221a6861628526f9d0e9e6\n",
      "Fail retrieving commit blob: b28b6b34dc6654bcd5221a6861628526f9d0e9e6\n",
      "Fail retrieving commit blob: b28b6b34dc6654bcd5221a6861628526f9d0e9e6\n",
      "Fail retrieving commit blob: 0a9f2343e8c6774a70a8b02bd44d3fddbbe16647\n",
      "Fail retrieving commit blob: 0a9f2343e8c6774a70a8b02bd44d3fddbbe16647\n",
      "Fail retrieving commit blob: 0a9f2343e8c6774a70a8b02bd44d3fddbbe16647\n",
      "Fail retrieving commit blob: 0a9f2343e8c6774a70a8b02bd44d3fddbbe16647\n",
      "Fail retrieving commit blob: 0a9f2343e8c6774a70a8b02bd44d3fddbbe16647\n",
      "Fail retrieving commit blob: 0a9f2343e8c6774a70a8b02bd44d3fddbbe16647\n",
      "Fail retrieving commit blob: 0a9f2343e8c6774a70a8b02bd44d3fddbbe16647\n",
      "Fail retrieving commit blob: 0a9f2343e8c6774a70a8b02bd44d3fddbbe16647\n",
      "Fail retrieving commit blob: 0a9f2343e8c6774a70a8b02bd44d3fddbbe16647\n",
      "Fail retrieving commit blob: 97a3e7888be49d63460638b492395454e0e92f9b\n",
      "Fail retrieving commit blob: 97a3e7888be49d63460638b492395454e0e92f9b\n",
      "Fail retrieving commit blob: f1ffad978a1d79be640da6c43d74c1490ce23267\n",
      "Fail retrieving commit blob: f1ffad978a1d79be640da6c43d74c1490ce23267\n",
      "Fail retrieving commit blob: f1ffad978a1d79be640da6c43d74c1490ce23267\n",
      "Fail retrieving commit blob: f1ffad978a1d79be640da6c43d74c1490ce23267\n",
      "Fail retrieving commit blob: f1ffad978a1d79be640da6c43d74c1490ce23267\n",
      "Fail retrieving commit blob: f1ffad978a1d79be640da6c43d74c1490ce23267\n",
      "Fail retrieving commit blob: f1ffad978a1d79be640da6c43d74c1490ce23267\n",
      "Fail retrieving commit blob: f1ffad978a1d79be640da6c43d74c1490ce23267\n",
      "Fail retrieving commit blob: f1ffad978a1d79be640da6c43d74c1490ce23267\n",
      "Fail retrieving commit blob: f1ffad978a1d79be640da6c43d74c1490ce23267\n",
      "Fail retrieving commit blob: f1ffad978a1d79be640da6c43d74c1490ce23267\n",
      "Fail retrieving commit blob: f1ffad978a1d79be640da6c43d74c1490ce23267\n",
      "Fail retrieving commit blob: f1ffad978a1d79be640da6c43d74c1490ce23267\n",
      "Fail retrieving commit blob: b28b6b34dc6654bcd5221a6861628526f9d0e9e6\n",
      "Fail retrieving commit blob: b28b6b34dc6654bcd5221a6861628526f9d0e9e6\n",
      "Fail retrieving commit blob: b28b6b34dc6654bcd5221a6861628526f9d0e9e6\n",
      "Fail retrieving commit blob: b28b6b34dc6654bcd5221a6861628526f9d0e9e6\n",
      "Fail retrieving commit blob: b28b6b34dc6654bcd5221a6861628526f9d0e9e6\n",
      "Fail retrieving commit blob: b28b6b34dc6654bcd5221a6861628526f9d0e9e6\n",
      "Fail retrieving commit blob: b28b6b34dc6654bcd5221a6861628526f9d0e9e6\n",
      "Fail retrieving commit blob: b28b6b34dc6654bcd5221a6861628526f9d0e9e6\n",
      "Fail retrieving commit blob: b28b6b34dc6654bcd5221a6861628526f9d0e9e6\n",
      "Fail retrieving commit blob: b28b6b34dc6654bcd5221a6861628526f9d0e9e6\n",
      "Fail retrieving commit blob: b28b6b34dc6654bcd5221a6861628526f9d0e9e6\n",
      "Fail retrieving commit blob: b28b6b34dc6654bcd5221a6861628526f9d0e9e6\n",
      "Fail retrieving commit blob: b28b6b34dc6654bcd5221a6861628526f9d0e9e6\n",
      "Fail retrieving commit blob: b28b6b34dc6654bcd5221a6861628526f9d0e9e6\n",
      "Fail retrieving commit blob: b28b6b34dc6654bcd5221a6861628526f9d0e9e6\n",
      "Fail retrieving commit blob: b28b6b34dc6654bcd5221a6861628526f9d0e9e6\n",
      "Fail retrieving commit blob: b28b6b34dc6654bcd5221a6861628526f9d0e9e6\n",
      "Fail retrieving commit blob: b28b6b34dc6654bcd5221a6861628526f9d0e9e6\n",
      "Fail retrieving commit blob: b28b6b34dc6654bcd5221a6861628526f9d0e9e6\n",
      "Fail retrieving commit blob: b28b6b34dc6654bcd5221a6861628526f9d0e9e6\n",
      "Fail retrieving commit blob: b28b6b34dc6654bcd5221a6861628526f9d0e9e6\n",
      "Fail retrieving commit blob: b28b6b34dc6654bcd5221a6861628526f9d0e9e6\n",
      "Fail retrieving commit blob: b28b6b34dc6654bcd5221a6861628526f9d0e9e6\n",
      "Fail retrieving commit blob: b28b6b34dc6654bcd5221a6861628526f9d0e9e6\n",
      "Fail retrieving commit blob: b28b6b34dc6654bcd5221a6861628526f9d0e9e6\n",
      "Fail retrieving commit blob: b28b6b34dc6654bcd5221a6861628526f9d0e9e6\n",
      "Fail retrieving commit blob: b28b6b34dc6654bcd5221a6861628526f9d0e9e6\n",
      "Fail retrieving commit blob: 36200fdfd2c1e7c4313c4a13ba86571ee30b3b82\n",
      "Fail retrieving commit blob: 97e8bc828939f0166c57e66d7eccf41875154d55\n",
      "Fail retrieving commit blob: 36200fdfd2c1e7c4313c4a13ba86571ee30b3b82\n",
      "Fail retrieving commit blob: 97e8bc828939f0166c57e66d7eccf41875154d55\n",
      "Fail retrieving commit blob: 36200fdfd2c1e7c4313c4a13ba86571ee30b3b82\n",
      "Fail retrieving commit blob: 97e8bc828939f0166c57e66d7eccf41875154d55\n",
      "Fail retrieving commit blob: 36200fdfd2c1e7c4313c4a13ba86571ee30b3b82\n",
      "Fail retrieving commit blob: 97e8bc828939f0166c57e66d7eccf41875154d55\n",
      "Fail retrieving commit blob: 36200fdfd2c1e7c4313c4a13ba86571ee30b3b82\n",
      "Fail retrieving commit blob: 97e8bc828939f0166c57e66d7eccf41875154d55\n",
      "Fail retrieving commit blob: 36200fdfd2c1e7c4313c4a13ba86571ee30b3b82\n",
      "Fail retrieving commit blob: 97e8bc828939f0166c57e66d7eccf41875154d55\n",
      "Fail retrieving commit blob: 36200fdfd2c1e7c4313c4a13ba86571ee30b3b82\n",
      "Fail retrieving commit blob: 97e8bc828939f0166c57e66d7eccf41875154d55\n",
      "Fail retrieving commit blob: 36200fdfd2c1e7c4313c4a13ba86571ee30b3b82\n",
      "Fail retrieving commit blob: 97e8bc828939f0166c57e66d7eccf41875154d55\n",
      "Fail retrieving commit blob: 36200fdfd2c1e7c4313c4a13ba86571ee30b3b82\n",
      "Fail retrieving commit blob: 97e8bc828939f0166c57e66d7eccf41875154d55\n",
      "Fail retrieving commit blob: 36200fdfd2c1e7c4313c4a13ba86571ee30b3b82\n",
      "Fail retrieving commit blob: 97e8bc828939f0166c57e66d7eccf41875154d55\n",
      "Fail retrieving commit blob: 36200fdfd2c1e7c4313c4a13ba86571ee30b3b82\n",
      "Fail retrieving commit blob: 97e8bc828939f0166c57e66d7eccf41875154d55\n",
      "Fail retrieving commit blob: 36200fdfd2c1e7c4313c4a13ba86571ee30b3b82\n",
      "Fail retrieving commit blob: 97e8bc828939f0166c57e66d7eccf41875154d55\n",
      "Fail retrieving commit blob: 36200fdfd2c1e7c4313c4a13ba86571ee30b3b82\n",
      "Fail retrieving commit blob: 97e8bc828939f0166c57e66d7eccf41875154d55\n",
      "Fail retrieving commit blob: 36200fdfd2c1e7c4313c4a13ba86571ee30b3b82\n",
      "Fail retrieving commit blob: 97e8bc828939f0166c57e66d7eccf41875154d55\n",
      "Fail retrieving commit blob: 36200fdfd2c1e7c4313c4a13ba86571ee30b3b82\n",
      "Fail retrieving commit blob: 97e8bc828939f0166c57e66d7eccf41875154d55\n",
      "Fail retrieving commit blob: 36200fdfd2c1e7c4313c4a13ba86571ee30b3b82\n",
      "Fail retrieving commit blob: 97e8bc828939f0166c57e66d7eccf41875154d55\n",
      "Fail retrieving commit blob: 36200fdfd2c1e7c4313c4a13ba86571ee30b3b82\n",
      "Fail retrieving commit blob: 97e8bc828939f0166c57e66d7eccf41875154d55\n",
      "Fail retrieving commit blob: 36200fdfd2c1e7c4313c4a13ba86571ee30b3b82\n",
      "Fail retrieving commit blob: 97e8bc828939f0166c57e66d7eccf41875154d55\n",
      "Fail retrieving commit blob: 36200fdfd2c1e7c4313c4a13ba86571ee30b3b82\n",
      "Fail retrieving commit blob: 97e8bc828939f0166c57e66d7eccf41875154d55\n",
      "Fail retrieving commit blob: 36200fdfd2c1e7c4313c4a13ba86571ee30b3b82\n",
      "Fail retrieving commit blob: 97e8bc828939f0166c57e66d7eccf41875154d55\n",
      "Fail retrieving commit blob: 36200fdfd2c1e7c4313c4a13ba86571ee30b3b82\n",
      "Fail retrieving commit blob: 97e8bc828939f0166c57e66d7eccf41875154d55\n",
      "Fail retrieving commit blob: 36200fdfd2c1e7c4313c4a13ba86571ee30b3b82\n",
      "Fail retrieving commit blob: 97e8bc828939f0166c57e66d7eccf41875154d55\n",
      "Fail retrieving commit blob: 36200fdfd2c1e7c4313c4a13ba86571ee30b3b82\n",
      "Fail retrieving commit blob: 97e8bc828939f0166c57e66d7eccf41875154d55\n",
      "Fail retrieving commit blob: 36200fdfd2c1e7c4313c4a13ba86571ee30b3b82\n",
      "Fail retrieving commit blob: 97e8bc828939f0166c57e66d7eccf41875154d55\n",
      "Fail retrieving commit blob: 36200fdfd2c1e7c4313c4a13ba86571ee30b3b82\n",
      "Fail retrieving commit blob: 97e8bc828939f0166c57e66d7eccf41875154d55\n",
      "Fail retrieving commit blob: 36200fdfd2c1e7c4313c4a13ba86571ee30b3b82\n",
      "Fail retrieving commit blob: 97e8bc828939f0166c57e66d7eccf41875154d55\n",
      "Fail retrieving commit blob: 36200fdfd2c1e7c4313c4a13ba86571ee30b3b82\n",
      "Fail retrieving commit blob: 97e8bc828939f0166c57e66d7eccf41875154d55\n",
      "Fail retrieving commit blob: 36200fdfd2c1e7c4313c4a13ba86571ee30b3b82\n",
      "Fail retrieving commit blob: 97e8bc828939f0166c57e66d7eccf41875154d55\n",
      "Fail retrieving commit blob: 36200fdfd2c1e7c4313c4a13ba86571ee30b3b82\n",
      "Fail retrieving commit blob: 97e8bc828939f0166c57e66d7eccf41875154d55\n",
      "Fail retrieving commit blob: 36200fdfd2c1e7c4313c4a13ba86571ee30b3b82\n",
      "Fail retrieving commit blob: 97e8bc828939f0166c57e66d7eccf41875154d55\n",
      "Fail retrieving commit blob: 36200fdfd2c1e7c4313c4a13ba86571ee30b3b82\n",
      "Fail retrieving commit blob: 97e8bc828939f0166c57e66d7eccf41875154d55\n",
      "Fail retrieving commit blob: 36200fdfd2c1e7c4313c4a13ba86571ee30b3b82\n",
      "Fail retrieving commit blob: 97e8bc828939f0166c57e66d7eccf41875154d55\n",
      "Fail retrieving commit blob: 36200fdfd2c1e7c4313c4a13ba86571ee30b3b82\n",
      "Fail retrieving commit blob: 97e8bc828939f0166c57e66d7eccf41875154d55\n",
      "Fail retrieving commit blob: 36200fdfd2c1e7c4313c4a13ba86571ee30b3b82\n",
      "Fail retrieving commit blob: 97e8bc828939f0166c57e66d7eccf41875154d55\n",
      "Fail retrieving commit blob: 36200fdfd2c1e7c4313c4a13ba86571ee30b3b82\n",
      "Fail retrieving commit blob: 97e8bc828939f0166c57e66d7eccf41875154d55\n",
      "Fail retrieving commit blob: 36200fdfd2c1e7c4313c4a13ba86571ee30b3b82\n",
      "Fail retrieving commit blob: 97e8bc828939f0166c57e66d7eccf41875154d55\n",
      "Fail retrieving commit blob: 36200fdfd2c1e7c4313c4a13ba86571ee30b3b82\n",
      "Fail retrieving commit blob: 97e8bc828939f0166c57e66d7eccf41875154d55\n",
      "Fail retrieving commit blob: 36200fdfd2c1e7c4313c4a13ba86571ee30b3b82\n",
      "Fail retrieving commit blob: 97e8bc828939f0166c57e66d7eccf41875154d55\n",
      "Fail retrieving commit blob: 36200fdfd2c1e7c4313c4a13ba86571ee30b3b82\n",
      "Fail retrieving commit blob: 97e8bc828939f0166c57e66d7eccf41875154d55\n",
      "Fail retrieving commit blob: 36200fdfd2c1e7c4313c4a13ba86571ee30b3b82\n",
      "Fail retrieving commit blob: 97e8bc828939f0166c57e66d7eccf41875154d55\n",
      "Fail retrieving commit blob: 36200fdfd2c1e7c4313c4a13ba86571ee30b3b82\n",
      "Fail retrieving commit blob: 97e8bc828939f0166c57e66d7eccf41875154d55\n",
      "Fail retrieving commit blob: 36200fdfd2c1e7c4313c4a13ba86571ee30b3b82\n",
      "Fail retrieving commit blob: 97e8bc828939f0166c57e66d7eccf41875154d55\n",
      "Fail retrieving commit blob: 36200fdfd2c1e7c4313c4a13ba86571ee30b3b82\n",
      "Fail retrieving commit blob: 97e8bc828939f0166c57e66d7eccf41875154d55\n",
      "Fail retrieving commit blob: 36200fdfd2c1e7c4313c4a13ba86571ee30b3b82\n",
      "Fail retrieving commit blob: 97e8bc828939f0166c57e66d7eccf41875154d55\n",
      "Fail retrieving commit blob: 36200fdfd2c1e7c4313c4a13ba86571ee30b3b82\n",
      "Fail retrieving commit blob: 97e8bc828939f0166c57e66d7eccf41875154d55\n",
      "Fail retrieving commit blob: 36200fdfd2c1e7c4313c4a13ba86571ee30b3b82\n",
      "Fail retrieving commit blob: 97e8bc828939f0166c57e66d7eccf41875154d55\n",
      "Fail retrieving commit blob: 36200fdfd2c1e7c4313c4a13ba86571ee30b3b82\n",
      "Fail retrieving commit blob: 97e8bc828939f0166c57e66d7eccf41875154d55\n",
      "Fail retrieving commit blob: 36200fdfd2c1e7c4313c4a13ba86571ee30b3b82\n",
      "Fail retrieving commit blob: 97e8bc828939f0166c57e66d7eccf41875154d55\n",
      "Fail retrieving commit blob: 36200fdfd2c1e7c4313c4a13ba86571ee30b3b82\n",
      "Fail retrieving commit blob: 97e8bc828939f0166c57e66d7eccf41875154d55\n",
      "Fail retrieving commit blob: 36200fdfd2c1e7c4313c4a13ba86571ee30b3b82\n",
      "Fail retrieving commit blob: 97e8bc828939f0166c57e66d7eccf41875154d55\n",
      "Fail retrieving commit blob: 36200fdfd2c1e7c4313c4a13ba86571ee30b3b82\n",
      "Fail retrieving commit blob: 97e8bc828939f0166c57e66d7eccf41875154d55\n",
      "Fail retrieving commit blob: 36200fdfd2c1e7c4313c4a13ba86571ee30b3b82\n",
      "Fail retrieving commit blob: 97e8bc828939f0166c57e66d7eccf41875154d55\n",
      "Fail retrieving commit blob: 36200fdfd2c1e7c4313c4a13ba86571ee30b3b82\n",
      "Fail retrieving commit blob: 97e8bc828939f0166c57e66d7eccf41875154d55\n",
      "Fail retrieving commit blob: 36200fdfd2c1e7c4313c4a13ba86571ee30b3b82\n",
      "Fail retrieving commit blob: 97e8bc828939f0166c57e66d7eccf41875154d55\n",
      "Fail retrieving commit blob: 36200fdfd2c1e7c4313c4a13ba86571ee30b3b82\n",
      "Fail retrieving commit blob: 97e8bc828939f0166c57e66d7eccf41875154d55\n",
      "Fail retrieving commit blob: 36200fdfd2c1e7c4313c4a13ba86571ee30b3b82\n",
      "Fail retrieving commit blob: 97e8bc828939f0166c57e66d7eccf41875154d55\n",
      "Fail retrieving commit blob: 36200fdfd2c1e7c4313c4a13ba86571ee30b3b82\n",
      "Fail retrieving commit blob: 97e8bc828939f0166c57e66d7eccf41875154d55\n",
      "Fail retrieving commit blob: 36200fdfd2c1e7c4313c4a13ba86571ee30b3b82\n",
      "Fail retrieving commit blob: 97e8bc828939f0166c57e66d7eccf41875154d55\n",
      "Fail retrieving commit blob: 36200fdfd2c1e7c4313c4a13ba86571ee30b3b82\n",
      "Fail retrieving commit blob: 97e8bc828939f0166c57e66d7eccf41875154d55\n",
      "Fail retrieving commit blob: 36200fdfd2c1e7c4313c4a13ba86571ee30b3b82\n",
      "Fail retrieving commit blob: 97e8bc828939f0166c57e66d7eccf41875154d55\n",
      "Fail retrieving commit blob: 36200fdfd2c1e7c4313c4a13ba86571ee30b3b82\n",
      "Fail retrieving commit blob: 97e8bc828939f0166c57e66d7eccf41875154d55\n",
      "Fail retrieving commit blob: 36200fdfd2c1e7c4313c4a13ba86571ee30b3b82\n",
      "Fail retrieving commit blob: 97e8bc828939f0166c57e66d7eccf41875154d55\n",
      "Fail retrieving commit blob: 36200fdfd2c1e7c4313c4a13ba86571ee30b3b82\n",
      "Fail retrieving commit blob: 97e8bc828939f0166c57e66d7eccf41875154d55\n",
      "Fail retrieving commit blob: 36200fdfd2c1e7c4313c4a13ba86571ee30b3b82\n",
      "Fail retrieving commit blob: 97e8bc828939f0166c57e66d7eccf41875154d55\n",
      "Fail retrieving commit blob: 36200fdfd2c1e7c4313c4a13ba86571ee30b3b82\n",
      "Fail retrieving commit blob: 97e8bc828939f0166c57e66d7eccf41875154d55\n",
      "Fail retrieving commit blob: 36200fdfd2c1e7c4313c4a13ba86571ee30b3b82\n",
      "Fail retrieving commit blob: 97e8bc828939f0166c57e66d7eccf41875154d55\n",
      "Fail retrieving commit blob: 36200fdfd2c1e7c4313c4a13ba86571ee30b3b82\n",
      "Fail retrieving commit blob: 97e8bc828939f0166c57e66d7eccf41875154d55\n"
     ]
    }
   ],
   "source": [
    "def retieveTestCreationTime(row):\n",
    "    \n",
    "    test_file_path = \"src/test/java/\"+row['id'].split(':')[1].rsplit('.',1)[0].replace(\".\",\"/\")+\".java\"\n",
    "    test_name = row['id'].split(':')[1].rsplit('.',1)[1]\n",
    "\n",
    "    repo_path = \"repos/ormlite-core\"\n",
    "    repo = git.Repo(repo_path)\n",
    "\n",
    "    commits_touching_path = list(repo.iter_commits(paths=test_file_path))\n",
    "\n",
    "    creationTime = time.time()\n",
    "    for commit in commits_touching_path:\n",
    "        try:\n",
    "            targetfile = commit.tree / test_file_path\n",
    "            with io.BytesIO(targetfile.data_stream.read()) as f:\n",
    "                content = f.read().decode('utf-8')\n",
    "                if test_name in content and commit.committed_date < creationTime:\n",
    "                    creationTime = commit.committed_date\n",
    "        except KeyError:\n",
    "            print('Fail retrieving commit blob:', targetfile)\n",
    "    return creationTime\n",
    "\n",
    "df_single['create_time'] = df_single.apply(retieveTestCreationTime, axis=1)"
   ]
  },
  {
   "cell_type": "code",
   "execution_count": 133,
   "metadata": {},
   "outputs": [],
   "source": [
    "def create_epoch_bars(timestamps, num_bars=10):\n",
    "\n",
    "    # Determine the range of timestamps\n",
    "    min_time = timestamps.min()\n",
    "    max_time = timestamps.max()\n",
    "\n",
    "    # Create equally spaced bar edges\n",
    "    bins = np.linspace(min_time, max_time, num_bars + 1)\n",
    "\n",
    "    # Assign each timestamp to a bar based on the bin\n",
    "    bars = pd.cut(timestamps, bins=bins, labels=range(1, num_bars + 1), include_lowest=True)\n",
    "\n",
    "    return bars"
   ]
  },
  {
   "cell_type": "code",
   "execution_count": 166,
   "metadata": {},
   "outputs": [],
   "source": [
    "df_single['bar'] = create_epoch_bars(df_single['create_time'])"
   ]
  },
  {
   "cell_type": "code",
   "execution_count": 167,
   "metadata": {},
   "outputs": [],
   "source": []
  },
  {
   "cell_type": "code",
   "execution_count": 174,
   "metadata": {},
   "outputs": [
    {
     "data": {
      "image/png": "[encoded data removed]",
      "text/plain": [
       "<Figure size 640x480 with 1 Axes>"
      ]
     },
     "metadata": {},
     "output_type": "display_data"
    }
   ],
   "source": [
    "x = list(range(1,11))\n",
    "\n",
    "NF_count = []\n",
    "OD_count = []\n",
    "ID_count = []\n",
    "NOD_count = []\n",
    "for i in x:\n",
    "    NF_count.append(df_single[df_single['category']=='NF']['bar'].value_counts()[i])\n",
    "    OD_count.append(df_single[df_single['category']=='OD']['bar'].value_counts()[i])\n",
    "    ID_count.append(df_single[df_single['category']=='ID']['bar'].value_counts()[i])\n",
    "    NOD_count.append(df_single[df_single['category']=='NOD']['bar'].value_counts()[i])\n",
    "\n",
    "\n",
    "method_counts = {\n",
    "    \n",
    "    'NF': np.array(NF_count),\n",
    "    'OD': np.array(OD_count),\n",
    "    'ID': np.array(ID_count),\n",
    "    'NOD': np.array(NOD_count)\n",
    "}\n",
    "\n",
    "width = 0.5\n",
    "\n",
    "fig, ax = plt.subplots()\n",
    "\n",
    "bottom = np.zeros(10)\n",
    "\n",
    "for boolean, method_count in method_counts.items():\n",
    "    p = ax.bar(x, method_count, width, label=boolean, bottom=bottom)\n",
    "    bottom += method_count\n",
    "\n",
    "\n",
    "ax.set_title(\"Creation Time of Test Cases\")\n",
    "ax.legend(loc=\"upper right\")\n",
    "plt.xticks([])\n",
    "plt.show()"
   ]
  },
  {
   "cell_type": "code",
   "execution_count": 169,
   "metadata": {},
   "outputs": [
    {
     "data": {
      "image/png": "[encoded data removed]",
      "text/plain": [
       "<Figure size 640x480 with 1 Axes>"
      ]
     },
     "metadata": {},
     "output_type": "display_data"
    }
   ],
   "source": [
    "plt.bar(x,y)\n",
    "plt.xlabel(\"Time\")\n",
    "plt.ylabel(\"Occurence\")\n",
    "plt.show()"
   ]
  }
 ],
 "metadata": {
  "kernelspec": {
   "display_name": "Python 3",
   "language": "python",
   "name": "python3"
  },
  "language_info": {
   "codemirror_mode": {
    "name": "ipython",
    "version": 3
   },
   "file_extension": ".py",
   "mimetype": "text/x-python",
   "name": "python",
   "nbconvert_exporter": "python",
   "pygments_lexer": "ipython3",
   "version": "3.12.2"
  }
 },
 "nbformat": 4,
 "nbformat_minor": 2
}
